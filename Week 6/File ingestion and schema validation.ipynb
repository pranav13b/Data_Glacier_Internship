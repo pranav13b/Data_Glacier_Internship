{
 "cells": [
  {
   "cell_type": "markdown",
   "metadata": {},
   "source": [
    "## Task: File Ingestion and Schema validation\n",
    "\n",
    "* Take any csv/text file of 2+ GB of your choice. --- (You can do this assignment on Google colab)\n",
    "\n",
    "* Read the file ( Present approach of reading the file )\n",
    "\n",
    "* Try different methods of file reading eg: Dask, Modin, Ray, pandas and present your findings in term of computational     efficiency\n",
    "\n",
    "* Perform basic validation on data columns : eg: remove special character , white spaces from the col name\n",
    "\n",
    "* As you already know the schema hence create a YAML file and write the column name in YAML file. --define separator of   \n",
    "  read and write file, column name in YAML\n",
    "\n",
    "* Validate number of columns and column name of ingested file with YAML.\n",
    "\n",
    "* Write the file in pipe separated text file (|) in gz format.\n",
    "\n",
    "* Create a summary of the file:\n",
    "\n",
    "    Total number of rows,\n",
    "\n",
    "    total number of columns\n",
    "\n",
    "    file size"
   ]
  },
  {
   "cell_type": "code",
   "execution_count": 1,
   "metadata": {},
   "outputs": [],
   "source": [
    "import os\n",
    "import time"
   ]
  },
  {
   "cell_type": "code",
   "execution_count": 2,
   "metadata": {},
   "outputs": [
    {
     "data": {
      "text/plain": [
       "4544707885"
      ]
     },
     "execution_count": 2,
     "metadata": {},
     "output_type": "execute_result"
    }
   ],
   "source": [
    "#Size of the file\n",
    "os.path.getsize('/Users/pranav13b/Documents/Data Glacier Internship/Week 6/data.csv')"
   ]
  },
  {
   "cell_type": "markdown",
   "metadata": {},
   "source": [
    "### Read in the data with Dask"
   ]
  },
  {
   "cell_type": "code",
   "execution_count": 3,
   "metadata": {},
   "outputs": [
    {
     "name": "stdout",
     "output_type": "stream",
     "text": [
      "Read csv with dask:  0.0038919448852539062 sec\n"
     ]
    }
   ],
   "source": [
    "import dask.dataframe as dd\n",
    "start = time.time()\n",
    "dask_df = dd.read_csv('/Users/pranav13b/Documents/Data Glacier Internship/Week 6/data.csv')\n",
    "end = time.time()\n",
    "print(\"Read csv with dask: \",(end-start),\"sec\")"
   ]
  },
  {
   "cell_type": "markdown",
   "metadata": {},
   "source": [
    "### Read in the data with Pandas"
   ]
  },
  {
   "cell_type": "code",
   "execution_count": 4,
   "metadata": {},
   "outputs": [
    {
     "name": "stdout",
     "output_type": "stream",
     "text": [
      "Read csv with pandas:  27.523354053497314 sec\n"
     ]
    }
   ],
   "source": [
    "import pandas as pd\n",
    "start = time.time()\n",
    "df = pd.read_csv('/Users/pranav13b/Documents/Data Glacier Internship/Week 6/data.csv')\n",
    "end = time.time()\n",
    "print(\"Read csv with pandas: \",(end-start),\"sec\")"
   ]
  },
  {
   "cell_type": "markdown",
   "metadata": {},
   "source": [
    "### Here Dask is better than Pandas, with the least reading time of 0.004 sec"
   ]
  },
  {
   "cell_type": "code",
   "execution_count": 5,
   "metadata": {},
   "outputs": [],
   "source": [
    "from dask import dataframe as dd\n",
    "df = dd.read_csv('/Users/pranav13b/Documents/Data Glacier Internship/Week 6/data.csv',delimiter=',')"
   ]
  },
  {
   "cell_type": "code",
   "execution_count": 6,
   "metadata": {},
   "outputs": [
    {
     "name": "stdout",
     "output_type": "stream",
     "text": [
      "<class 'dask_expr.DataFrame'>\n",
      "Columns: 8 entries, 198801 to 34353\n",
      "dtypes: int64(8)"
     ]
    }
   ],
   "source": [
    "df.info()"
   ]
  },
  {
   "cell_type": "code",
   "execution_count": 7,
   "metadata": {},
   "outputs": [
    {
     "data": {
      "text/plain": [
       "113607321"
      ]
     },
     "execution_count": 7,
     "metadata": {},
     "output_type": "execute_result"
    }
   ],
   "source": [
    "#No. of Rows\n",
    "len(df.index)"
   ]
  },
  {
   "cell_type": "code",
   "execution_count": 8,
   "metadata": {},
   "outputs": [
    {
     "data": {
      "text/plain": [
       "8"
      ]
     },
     "execution_count": 8,
     "metadata": {},
     "output_type": "execute_result"
    }
   ],
   "source": [
    "#No, of Columns\n",
    "len(df.columns)"
   ]
  },
  {
   "cell_type": "code",
   "execution_count": 9,
   "metadata": {},
   "outputs": [],
   "source": [
    "# remove special character\n",
    "df.columns=df.columns.str.replace('[#,@,&]','')"
   ]
  },
  {
   "cell_type": "code",
   "execution_count": 10,
   "metadata": {},
   "outputs": [],
   "source": [
    "#To remove white space from columns\n",
    "df.columns = df.columns.str.replace(' ', '')"
   ]
  },
  {
   "cell_type": "code",
   "execution_count": 11,
   "metadata": {},
   "outputs": [
    {
     "data": {
      "text/plain": [
       "Index(['198801', '1', '103', '100', '000000190', '0', '35843', '34353'], dtype='object')"
      ]
     },
     "execution_count": 11,
     "metadata": {},
     "output_type": "execute_result"
    }
   ],
   "source": [
    "data=df.columns\n",
    "data"
   ]
  },
  {
   "cell_type": "markdown",
   "metadata": {},
   "source": [
    "### Validation"
   ]
  },
  {
   "cell_type": "code",
   "execution_count": 12,
   "metadata": {},
   "outputs": [
    {
     "name": "stdout",
     "output_type": "stream",
     "text": [
      "Overwriting utility.py\n"
     ]
    }
   ],
   "source": [
    "%%writefile utility.py\n",
    "import logging\n",
    "import os\n",
    "import subprocess\n",
    "import yaml\n",
    "import pandas as pd\n",
    "import datetime \n",
    "import gc\n",
    "import re\n",
    "\n",
    "def read_config_file(filepath):\n",
    "    with open(filepath, 'r') as stream:\n",
    "        try:\n",
    "            return yaml.safe_load(stream)\n",
    "        except yaml.YAMLError as exc:\n",
    "            logging.error(exc)\n",
    "\n",
    "def replacer(string, char):\n",
    "    pattern = char + '{2,}'\n",
    "    string = re.sub(pattern, char, string)\n",
    "    return string\n",
    "\n",
    "def col_header_val(df,table_config):\n",
    "    df.columns = df.columns.str.lower()\n",
    "    df.columns = df.columns.str.replace('[^\\w]','_',regex=True)\n",
    "    df.columns = list(map(lambda x: x.strip('_'), list(df.columns)))\n",
    "    df.columns = list(map(lambda x: replacer(x,'_'), list(df.columns)))\n",
    "    expected_col = list(map(lambda x: x.lower(),  table_config['columns']))\n",
    "    expected_col.sort()\n",
    "    df.columns =list(map(lambda x: x.lower(), list(df.columns)))\n",
    "    df = df.reindex(sorted(df.columns), axis=1)\n",
    "    if len(df.columns) == len(expected_col) and list(expected_col)  == list(df.columns):\n",
    "        print(\"column name and column length validation passed\")\n",
    "        return 1\n",
    "    else:\n",
    "        print(\"column name and column length validation failed\")\n",
    "        mismatched_columns_file = list(set(df.columns).difference(expected_col))\n",
    "        print(\"Following File columns are not in the YAML file\",mismatched_columns_file)\n",
    "        missing_YAML_file = list(set(expected_col).difference(df.columns))\n",
    "        print(\"Following YAML columns are not in the file uploaded\",missing_YAML_file)\n",
    "        logging.info(f'df columns: {df.columns}')\n",
    "        logging.info(f'expected columns: {expected_col}')\n",
    "        return 0"
   ]
  },
  {
   "cell_type": "code",
   "execution_count": 13,
   "metadata": {},
   "outputs": [
    {
     "name": "stdout",
     "output_type": "stream",
     "text": [
      "Overwriting store.yaml\n"
     ]
    }
   ],
   "source": [
    "%%writefile store.yaml\n",
    "file_type: csv\n",
    "dataset_name: file\n",
    "file_name: data\n",
    "table_name: edsurv\n",
    "inbound_delimiter: \",\"\n",
    "outbound_delimiter: \"|\"\n",
    "skip_leading_rows: 1\n",
    "columns: \n",
    "    - JapanTradeData\n",
    "      - YearAndMonth\n",
    "      - ExportOrImport\n",
    "      - HSCode\n",
    "      - Customs\n",
    "      - Country \n",
    "      - Q1\n",
    "      - Q2\n",
    "      - Value"
   ]
  },
  {
   "cell_type": "code",
   "execution_count": 14,
   "metadata": {},
   "outputs": [
    {
     "name": "stderr",
     "output_type": "stream",
     "text": [
      "/Users/pranav13b/Documents/Data Glacier Internship/Week 6/utility.py:24: SyntaxWarning: invalid escape sequence '\\w'\n",
      "  df.columns = df.columns.str.replace('[^\\w]','_',regex=True)\n"
     ]
    }
   ],
   "source": [
    "# Reading config file\n",
    "import utility as util\n",
    "config_data = util.read_config_file(\"store.yaml\")"
   ]
  },
  {
   "cell_type": "code",
   "execution_count": 15,
   "metadata": {},
   "outputs": [
    {
     "data": {
      "text/plain": [
       "{'file_type': 'csv',\n",
       " 'dataset_name': 'file',\n",
       " 'file_name': 'data',\n",
       " 'table_name': 'edsurv',\n",
       " 'inbound_delimiter': ',',\n",
       " 'outbound_delimiter': '|',\n",
       " 'skip_leading_rows': 1,\n",
       " 'columns': ['JapanTradeData - YearAndMonth - ExportOrImport - HSCode - Customs - Country - Q1 - Q2 - Value']}"
      ]
     },
     "execution_count": 15,
     "metadata": {},
     "output_type": "execute_result"
    }
   ],
   "source": [
    "#data of config file\n",
    "config_data"
   ]
  },
  {
   "cell_type": "code",
   "execution_count": 16,
   "metadata": {},
   "outputs": [
    {
     "data": {
      "text/html": [
       "<div>\n",
       "<style scoped>\n",
       "    .dataframe tbody tr th:only-of-type {\n",
       "        vertical-align: middle;\n",
       "    }\n",
       "\n",
       "    .dataframe tbody tr th {\n",
       "        vertical-align: top;\n",
       "    }\n",
       "\n",
       "    .dataframe thead th {\n",
       "        text-align: right;\n",
       "    }\n",
       "</style>\n",
       "<table border=\"1\" class=\"dataframe\">\n",
       "  <thead>\n",
       "    <tr style=\"text-align: right;\">\n",
       "      <th></th>\n",
       "      <th>198801</th>\n",
       "      <th>1</th>\n",
       "      <th>103</th>\n",
       "      <th>100</th>\n",
       "      <th>000000190</th>\n",
       "      <th>0</th>\n",
       "      <th>35843</th>\n",
       "      <th>34353</th>\n",
       "    </tr>\n",
       "  </thead>\n",
       "  <tbody>\n",
       "    <tr>\n",
       "      <th>0</th>\n",
       "      <td>198801</td>\n",
       "      <td>1</td>\n",
       "      <td>103</td>\n",
       "      <td>100</td>\n",
       "      <td>120991000</td>\n",
       "      <td>0</td>\n",
       "      <td>1590</td>\n",
       "      <td>4154</td>\n",
       "    </tr>\n",
       "    <tr>\n",
       "      <th>1</th>\n",
       "      <td>198801</td>\n",
       "      <td>1</td>\n",
       "      <td>103</td>\n",
       "      <td>100</td>\n",
       "      <td>210390900</td>\n",
       "      <td>0</td>\n",
       "      <td>4500</td>\n",
       "      <td>2565</td>\n",
       "    </tr>\n",
       "    <tr>\n",
       "      <th>2</th>\n",
       "      <td>198801</td>\n",
       "      <td>1</td>\n",
       "      <td>103</td>\n",
       "      <td>100</td>\n",
       "      <td>220890200</td>\n",
       "      <td>0</td>\n",
       "      <td>3000</td>\n",
       "      <td>757</td>\n",
       "    </tr>\n",
       "    <tr>\n",
       "      <th>3</th>\n",
       "      <td>198801</td>\n",
       "      <td>1</td>\n",
       "      <td>103</td>\n",
       "      <td>100</td>\n",
       "      <td>240220000</td>\n",
       "      <td>0</td>\n",
       "      <td>26000</td>\n",
       "      <td>40668</td>\n",
       "    </tr>\n",
       "    <tr>\n",
       "      <th>4</th>\n",
       "      <td>198801</td>\n",
       "      <td>1</td>\n",
       "      <td>103</td>\n",
       "      <td>100</td>\n",
       "      <td>250410000</td>\n",
       "      <td>0</td>\n",
       "      <td>5</td>\n",
       "      <td>8070</td>\n",
       "    </tr>\n",
       "  </tbody>\n",
       "</table>\n",
       "</div>"
      ],
      "text/plain": [
       "   198801  1  103  100  000000190  0  35843  34353\n",
       "0  198801  1  103  100  120991000  0   1590   4154\n",
       "1  198801  1  103  100  210390900  0   4500   2565\n",
       "2  198801  1  103  100  220890200  0   3000    757\n",
       "3  198801  1  103  100  240220000  0  26000  40668\n",
       "4  198801  1  103  100  250410000  0      5   8070"
      ]
     },
     "execution_count": 16,
     "metadata": {},
     "output_type": "execute_result"
    }
   ],
   "source": [
    "# Reading process of the file using Dask\n",
    "from dask import dataframe as dd\n",
    "df_sample = dd.read_csv('/Users/pranav13b/Documents/Data Glacier Internship/Week 6/data.csv',delimiter=',')\n",
    "df_sample.head()"
   ]
  },
  {
   "cell_type": "code",
   "execution_count": 17,
   "metadata": {},
   "outputs": [],
   "source": [
    "#Reading the file using config file\n",
    "file_type = config_data['file_type']\n",
    "source_file = \"/Users/pranav13b/Documents/Data Glacier Internship/Week 6/\" + config_data['file_name'] + f'.{file_type}'"
   ]
  },
  {
   "cell_type": "code",
   "execution_count": 18,
   "metadata": {},
   "outputs": [
    {
     "data": {
      "text/html": [
       "<div>\n",
       "<style scoped>\n",
       "    .dataframe tbody tr th:only-of-type {\n",
       "        vertical-align: middle;\n",
       "    }\n",
       "\n",
       "    .dataframe tbody tr th {\n",
       "        vertical-align: top;\n",
       "    }\n",
       "\n",
       "    .dataframe thead th {\n",
       "        text-align: right;\n",
       "    }\n",
       "</style>\n",
       "<table border=\"1\" class=\"dataframe\">\n",
       "  <thead>\n",
       "    <tr style=\"text-align: right;\">\n",
       "      <th></th>\n",
       "      <th>198801</th>\n",
       "      <th>1</th>\n",
       "      <th>103</th>\n",
       "      <th>100</th>\n",
       "      <th>000000190</th>\n",
       "      <th>0</th>\n",
       "      <th>35843</th>\n",
       "      <th>34353</th>\n",
       "    </tr>\n",
       "  </thead>\n",
       "  <tbody>\n",
       "    <tr>\n",
       "      <th>0</th>\n",
       "      <td>198801</td>\n",
       "      <td>1</td>\n",
       "      <td>103</td>\n",
       "      <td>100</td>\n",
       "      <td>120991000</td>\n",
       "      <td>0</td>\n",
       "      <td>1590</td>\n",
       "      <td>4154</td>\n",
       "    </tr>\n",
       "    <tr>\n",
       "      <th>1</th>\n",
       "      <td>198801</td>\n",
       "      <td>1</td>\n",
       "      <td>103</td>\n",
       "      <td>100</td>\n",
       "      <td>210390900</td>\n",
       "      <td>0</td>\n",
       "      <td>4500</td>\n",
       "      <td>2565</td>\n",
       "    </tr>\n",
       "    <tr>\n",
       "      <th>2</th>\n",
       "      <td>198801</td>\n",
       "      <td>1</td>\n",
       "      <td>103</td>\n",
       "      <td>100</td>\n",
       "      <td>220890200</td>\n",
       "      <td>0</td>\n",
       "      <td>3000</td>\n",
       "      <td>757</td>\n",
       "    </tr>\n",
       "    <tr>\n",
       "      <th>3</th>\n",
       "      <td>198801</td>\n",
       "      <td>1</td>\n",
       "      <td>103</td>\n",
       "      <td>100</td>\n",
       "      <td>240220000</td>\n",
       "      <td>0</td>\n",
       "      <td>26000</td>\n",
       "      <td>40668</td>\n",
       "    </tr>\n",
       "    <tr>\n",
       "      <th>4</th>\n",
       "      <td>198801</td>\n",
       "      <td>1</td>\n",
       "      <td>103</td>\n",
       "      <td>100</td>\n",
       "      <td>250410000</td>\n",
       "      <td>0</td>\n",
       "      <td>5</td>\n",
       "      <td>8070</td>\n",
       "    </tr>\n",
       "  </tbody>\n",
       "</table>\n",
       "</div>"
      ],
      "text/plain": [
       "   198801  1  103  100  000000190  0  35843  34353\n",
       "0  198801  1  103  100  120991000  0   1590   4154\n",
       "1  198801  1  103  100  210390900  0   4500   2565\n",
       "2  198801  1  103  100  220890200  0   3000    757\n",
       "3  198801  1  103  100  240220000  0  26000  40668\n",
       "4  198801  1  103  100  250410000  0      5   8070"
      ]
     },
     "execution_count": 18,
     "metadata": {},
     "output_type": "execute_result"
    }
   ],
   "source": [
    "import pandas as pd\n",
    "df = pd.read_csv(source_file)\n",
    "df.head()"
   ]
  },
  {
   "cell_type": "code",
   "execution_count": 19,
   "metadata": {},
   "outputs": [
    {
     "name": "stdout",
     "output_type": "stream",
     "text": [
      "column name and column length validation failed\n",
      "Following File columns are not in the YAML file ['100', '103', '1', '0', '35843', '34353', '198801', '000000190']\n",
      "Following YAML columns are not in the file uploaded ['japantradedata - yearandmonth - exportorimport - hscode - customs - country - q1 - q2 - value']\n"
     ]
    },
    {
     "data": {
      "text/plain": [
       "0"
      ]
     },
     "execution_count": 19,
     "metadata": {},
     "output_type": "execute_result"
    }
   ],
   "source": [
    "#validating the header of the file\n",
    "util.col_header_val(df,config_data)"
   ]
  },
  {
   "cell_type": "code",
   "execution_count": 20,
   "metadata": {},
   "outputs": [
    {
     "name": "stdout",
     "output_type": "stream",
     "text": [
      "columns of files are: Index(['198801', '1', '103', '100', '000000190', '0', '35843', '34353'], dtype='object')\n",
      "columns of YAML are: ['JapanTradeData - YearAndMonth - ExportOrImport - HSCode - Customs - Country - Q1 - Q2 - Value']\n"
     ]
    }
   ],
   "source": [
    "print(\"columns of files are:\" ,df.columns)\n",
    "print(\"columns of YAML are:\" ,config_data['columns'])"
   ]
  },
  {
   "cell_type": "code",
   "execution_count": 21,
   "metadata": {},
   "outputs": [
    {
     "name": "stdout",
     "output_type": "stream",
     "text": [
      "column name and column length validation failed\n",
      "Following File columns are not in the YAML file ['100', '103', '1', '0', '35843', '34353', '198801', '000000190']\n",
      "Following YAML columns are not in the file uploaded ['japantradedata - yearandmonth - exportorimport - hscode - customs - country - q1 - q2 - value']\n",
      "validation failed\n"
     ]
    }
   ],
   "source": [
    "if util.col_header_val(df,config_data)==0:\n",
    "    print(\"validation failed\")\n",
    "else:\n",
    "    print(\"col validation passed\")"
   ]
  },
  {
   "cell_type": "code",
   "execution_count": 22,
   "metadata": {},
   "outputs": [
    {
     "data": {
      "text/plain": [
       "['/Users/pranav13b/Documents/Data Glacier Internship/Week 6/data.csv.gz/00.part',\n",
       " '/Users/pranav13b/Documents/Data Glacier Internship/Week 6/data.csv.gz/01.part',\n",
       " '/Users/pranav13b/Documents/Data Glacier Internship/Week 6/data.csv.gz/02.part',\n",
       " '/Users/pranav13b/Documents/Data Glacier Internship/Week 6/data.csv.gz/03.part',\n",
       " '/Users/pranav13b/Documents/Data Glacier Internship/Week 6/data.csv.gz/04.part',\n",
       " '/Users/pranav13b/Documents/Data Glacier Internship/Week 6/data.csv.gz/05.part',\n",
       " '/Users/pranav13b/Documents/Data Glacier Internship/Week 6/data.csv.gz/06.part',\n",
       " '/Users/pranav13b/Documents/Data Glacier Internship/Week 6/data.csv.gz/07.part',\n",
       " '/Users/pranav13b/Documents/Data Glacier Internship/Week 6/data.csv.gz/08.part',\n",
       " '/Users/pranav13b/Documents/Data Glacier Internship/Week 6/data.csv.gz/09.part',\n",
       " '/Users/pranav13b/Documents/Data Glacier Internship/Week 6/data.csv.gz/10.part',\n",
       " '/Users/pranav13b/Documents/Data Glacier Internship/Week 6/data.csv.gz/11.part',\n",
       " '/Users/pranav13b/Documents/Data Glacier Internship/Week 6/data.csv.gz/12.part',\n",
       " '/Users/pranav13b/Documents/Data Glacier Internship/Week 6/data.csv.gz/13.part',\n",
       " '/Users/pranav13b/Documents/Data Glacier Internship/Week 6/data.csv.gz/14.part',\n",
       " '/Users/pranav13b/Documents/Data Glacier Internship/Week 6/data.csv.gz/15.part',\n",
       " '/Users/pranav13b/Documents/Data Glacier Internship/Week 6/data.csv.gz/16.part',\n",
       " '/Users/pranav13b/Documents/Data Glacier Internship/Week 6/data.csv.gz/17.part',\n",
       " '/Users/pranav13b/Documents/Data Glacier Internship/Week 6/data.csv.gz/18.part',\n",
       " '/Users/pranav13b/Documents/Data Glacier Internship/Week 6/data.csv.gz/19.part',\n",
       " '/Users/pranav13b/Documents/Data Glacier Internship/Week 6/data.csv.gz/20.part',\n",
       " '/Users/pranav13b/Documents/Data Glacier Internship/Week 6/data.csv.gz/21.part',\n",
       " '/Users/pranav13b/Documents/Data Glacier Internship/Week 6/data.csv.gz/22.part',\n",
       " '/Users/pranav13b/Documents/Data Glacier Internship/Week 6/data.csv.gz/23.part',\n",
       " '/Users/pranav13b/Documents/Data Glacier Internship/Week 6/data.csv.gz/24.part',\n",
       " '/Users/pranav13b/Documents/Data Glacier Internship/Week 6/data.csv.gz/25.part',\n",
       " '/Users/pranav13b/Documents/Data Glacier Internship/Week 6/data.csv.gz/26.part',\n",
       " '/Users/pranav13b/Documents/Data Glacier Internship/Week 6/data.csv.gz/27.part',\n",
       " '/Users/pranav13b/Documents/Data Glacier Internship/Week 6/data.csv.gz/28.part',\n",
       " '/Users/pranav13b/Documents/Data Glacier Internship/Week 6/data.csv.gz/29.part',\n",
       " '/Users/pranav13b/Documents/Data Glacier Internship/Week 6/data.csv.gz/30.part',\n",
       " '/Users/pranav13b/Documents/Data Glacier Internship/Week 6/data.csv.gz/31.part',\n",
       " '/Users/pranav13b/Documents/Data Glacier Internship/Week 6/data.csv.gz/32.part',\n",
       " '/Users/pranav13b/Documents/Data Glacier Internship/Week 6/data.csv.gz/33.part',\n",
       " '/Users/pranav13b/Documents/Data Glacier Internship/Week 6/data.csv.gz/34.part',\n",
       " '/Users/pranav13b/Documents/Data Glacier Internship/Week 6/data.csv.gz/35.part',\n",
       " '/Users/pranav13b/Documents/Data Glacier Internship/Week 6/data.csv.gz/36.part',\n",
       " '/Users/pranav13b/Documents/Data Glacier Internship/Week 6/data.csv.gz/37.part',\n",
       " '/Users/pranav13b/Documents/Data Glacier Internship/Week 6/data.csv.gz/38.part',\n",
       " '/Users/pranav13b/Documents/Data Glacier Internship/Week 6/data.csv.gz/39.part',\n",
       " '/Users/pranav13b/Documents/Data Glacier Internship/Week 6/data.csv.gz/40.part',\n",
       " '/Users/pranav13b/Documents/Data Glacier Internship/Week 6/data.csv.gz/41.part',\n",
       " '/Users/pranav13b/Documents/Data Glacier Internship/Week 6/data.csv.gz/42.part',\n",
       " '/Users/pranav13b/Documents/Data Glacier Internship/Week 6/data.csv.gz/43.part',\n",
       " '/Users/pranav13b/Documents/Data Glacier Internship/Week 6/data.csv.gz/44.part',\n",
       " '/Users/pranav13b/Documents/Data Glacier Internship/Week 6/data.csv.gz/45.part',\n",
       " '/Users/pranav13b/Documents/Data Glacier Internship/Week 6/data.csv.gz/46.part',\n",
       " '/Users/pranav13b/Documents/Data Glacier Internship/Week 6/data.csv.gz/47.part',\n",
       " '/Users/pranav13b/Documents/Data Glacier Internship/Week 6/data.csv.gz/48.part',\n",
       " '/Users/pranav13b/Documents/Data Glacier Internship/Week 6/data.csv.gz/49.part',\n",
       " '/Users/pranav13b/Documents/Data Glacier Internship/Week 6/data.csv.gz/50.part',\n",
       " '/Users/pranav13b/Documents/Data Glacier Internship/Week 6/data.csv.gz/51.part',\n",
       " '/Users/pranav13b/Documents/Data Glacier Internship/Week 6/data.csv.gz/52.part',\n",
       " '/Users/pranav13b/Documents/Data Glacier Internship/Week 6/data.csv.gz/53.part',\n",
       " '/Users/pranav13b/Documents/Data Glacier Internship/Week 6/data.csv.gz/54.part',\n",
       " '/Users/pranav13b/Documents/Data Glacier Internship/Week 6/data.csv.gz/55.part',\n",
       " '/Users/pranav13b/Documents/Data Glacier Internship/Week 6/data.csv.gz/56.part',\n",
       " '/Users/pranav13b/Documents/Data Glacier Internship/Week 6/data.csv.gz/57.part',\n",
       " '/Users/pranav13b/Documents/Data Glacier Internship/Week 6/data.csv.gz/58.part',\n",
       " '/Users/pranav13b/Documents/Data Glacier Internship/Week 6/data.csv.gz/59.part',\n",
       " '/Users/pranav13b/Documents/Data Glacier Internship/Week 6/data.csv.gz/60.part',\n",
       " '/Users/pranav13b/Documents/Data Glacier Internship/Week 6/data.csv.gz/61.part',\n",
       " '/Users/pranav13b/Documents/Data Glacier Internship/Week 6/data.csv.gz/62.part',\n",
       " '/Users/pranav13b/Documents/Data Glacier Internship/Week 6/data.csv.gz/63.part',\n",
       " '/Users/pranav13b/Documents/Data Glacier Internship/Week 6/data.csv.gz/64.part',\n",
       " '/Users/pranav13b/Documents/Data Glacier Internship/Week 6/data.csv.gz/65.part',\n",
       " '/Users/pranav13b/Documents/Data Glacier Internship/Week 6/data.csv.gz/66.part',\n",
       " '/Users/pranav13b/Documents/Data Glacier Internship/Week 6/data.csv.gz/67.part',\n",
       " '/Users/pranav13b/Documents/Data Glacier Internship/Week 6/data.csv.gz/68.part',\n",
       " '/Users/pranav13b/Documents/Data Glacier Internship/Week 6/data.csv.gz/69.part',\n",
       " '/Users/pranav13b/Documents/Data Glacier Internship/Week 6/data.csv.gz/70.part']"
      ]
     },
     "execution_count": 22,
     "metadata": {},
     "output_type": "execute_result"
    }
   ],
   "source": [
    "import datetime\n",
    "import csv\n",
    "import gzip\n",
    "\n",
    "from dask import dataframe as dd\n",
    "df = dd.read_csv('/Users/pranav13b/Documents/Data Glacier Internship/Week 6/data.csv',delimiter=',')\n",
    "\n",
    "# Write csv in gz format in pipe separated text file (|)\n",
    "df.to_csv('data.csv.gz',\n",
    "          sep='|',\n",
    "          header=True,\n",
    "          index=False,\n",
    "          quoting=csv.QUOTE_ALL,\n",
    "          compression='gzip',\n",
    "          quotechar='\"',\n",
    "          doublequote=True)"
   ]
  },
  {
   "cell_type": "code",
   "execution_count": 23,
   "metadata": {},
   "outputs": [
    {
     "name": "stdout",
     "output_type": "stream",
     "text": [
      "26.part\n",
      "67.part\n",
      "30.part\n",
      "47.part\n",
      "10.part\n",
      "06.part\n",
      "51.part\n",
      "50.part\n",
      "07.part\n",
      "11.part\n",
      "46.part\n",
      "31.part\n",
      "66.part\n",
      "70.part\n",
      "27.part\n",
      "41.part\n",
      "16.part\n",
      "00.part\n",
      "57.part\n",
      "20.part\n",
      "61.part\n",
      "36.part\n",
      "37.part\n",
      "60.part\n",
      "21.part\n",
      "56.part\n",
      "01.part\n",
      "17.part\n",
      "40.part\n",
      "55.part\n",
      "02.part\n",
      "14.part\n",
      "43.part\n",
      "38.part\n",
      "59.part\n",
      "18.part\n",
      "34.part\n",
      "63.part\n",
      "22.part\n",
      "23.part\n",
      "62.part\n",
      "35.part\n",
      "19.part\n",
      "58.part\n",
      "39.part\n",
      "42.part\n",
      "15.part\n",
      "03.part\n",
      "54.part\n",
      "08.part\n",
      "49.part\n",
      "32.part\n",
      "65.part\n",
      "24.part\n",
      "53.part\n",
      "04.part\n",
      "12.part\n",
      "45.part\n",
      "69.part\n",
      "28.part\n",
      "29.part\n",
      "68.part\n",
      "44.part\n",
      "13.part\n",
      "05.part\n",
      "52.part\n",
      "25.part\n",
      "64.part\n",
      "33.part\n",
      "48.part\n",
      "09.part\n"
     ]
    }
   ],
   "source": [
    "#number of files in gz format folder\n",
    "import os\n",
    "entries = os.listdir('/Users/pranav13b/Documents/Data Glacier Internship/Week 6/data.csv.gz/')\n",
    "for entry in entries:\n",
    "    print(entry)"
   ]
  },
  {
   "cell_type": "code",
   "execution_count": 24,
   "metadata": {},
   "outputs": [
    {
     "data": {
      "text/plain": [
       "2336"
      ]
     },
     "execution_count": 24,
     "metadata": {},
     "output_type": "execute_result"
    }
   ],
   "source": [
    "#size of the gz format folder\n",
    "os.path.getsize('/Users/pranav13b/Documents/Data Glacier Internship/Week 6/data.csv.gz')"
   ]
  }
 ],
 "metadata": {
  "kernelspec": {
   "display_name": "Python 3 (ipykernel)",
   "language": "python",
   "name": "python3"
  },
  "language_info": {
   "codemirror_mode": {
    "name": "ipython",
    "version": 3
   },
   "file_extension": ".py",
   "mimetype": "text/x-python",
   "name": "python",
   "nbconvert_exporter": "python",
   "pygments_lexer": "ipython3",
   "version": "3.12.3"
  }
 },
 "nbformat": 4,
 "nbformat_minor": 4
}
